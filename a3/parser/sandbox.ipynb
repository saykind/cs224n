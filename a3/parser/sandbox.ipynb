{
 "cells": [
  {
   "cell_type": "code",
   "execution_count": 48,
   "metadata": {},
   "outputs": [],
   "source": [
    "from datetime import datetime\n",
    "import os\n",
    "import pickle\n",
    "import math\n",
    "import time\n",
    "import argparse\n",
    "\n",
    "from torch import nn, optim\n",
    "import torch\n",
    "from tqdm import tqdm\n",
    "\n",
    "from parser_model import *\n",
    "from utils.parser_utils import minibatches, load_and_preprocess_data, AverageMeter\n",
    "\n",
    "from parser_transitions import *"
   ]
  },
  {
   "cell_type": "markdown",
   "metadata": {},
   "source": [
    "## Parser Transitions"
   ]
  },
  {
   "cell_type": "code",
   "execution_count": 32,
   "metadata": {},
   "outputs": [
    {
     "data": {
      "text/plain": [
       "[['ROOT', 'attended', 'lectures'],\n",
       " ['in', 'the', 'NLP', 'class'],\n",
       " [('attended', 'I')]]"
      ]
     },
     "execution_count": 32,
     "metadata": {},
     "output_type": "execute_result"
    }
   ],
   "source": [
    "#init\n",
    "sentence = [\"I\", \"attended\", \"lectures\", \"in\", \"the\", \"NLP\", \"class\"]\n",
    "pp = PartialParse(sentence)\n",
    "\n",
    "#parse\n",
    "pp.parse_step(\"S\")\n",
    "pp.parse_step(\"S\")\n",
    "pp.parse_step(\"LA\")\n",
    "pp.parse_step(\"S\")\n",
    "\n",
    "#print\n",
    "[pp.stack, pp.buffer, pp.dependencies]"
   ]
  },
  {
   "cell_type": "code",
   "execution_count": 33,
   "metadata": {},
   "outputs": [
    {
     "data": {
      "text/plain": [
       "[['ROOT'],\n",
       " [],\n",
       " [('attended', 'I'),\n",
       "  ('attended', 'lectures'),\n",
       "  ('class', 'NLP'),\n",
       "  ('class', 'the'),\n",
       "  ('class', 'in'),\n",
       "  ('attended', 'class'),\n",
       "  ('ROOT', 'attended')]]"
      ]
     },
     "execution_count": 33,
     "metadata": {},
     "output_type": "execute_result"
    }
   ],
   "source": [
    "#init\n",
    "sentence = [\"I\", \"attended\", \"lectures\", \"in\", \"the\", \"NLP\", \"class\"]\n",
    "pp = PartialParse(sentence)\n",
    "\n",
    "#parse\n",
    "transitions = [\"S\", \"S\", \"LA\", \"S\", \"RA\", \"S\", \"S\", \"S\", \"S\", \"LA\", \"LA\", \"LA\", \"RA\", \"RA\"]\n",
    "pp.parse(transitions)\n",
    "\n",
    "#print\n",
    "[pp.stack, pp.buffer, pp.dependencies]"
   ]
  },
  {
   "cell_type": "markdown",
   "metadata": {},
   "source": [
    "Minibatch parse"
   ]
  },
  {
   "cell_type": "code",
   "execution_count": 42,
   "metadata": {},
   "outputs": [],
   "source": [
    "model = DummyModel()\n",
    "sentence = [\"I\", \"attended\", \"lectures\", \"in\", \"the\", \"NLP\", \"class\"]\n",
    "sentences = [sentence, \"I love you\".split()]    \n",
    "pp = PartialParse(sentence)"
   ]
  },
  {
   "cell_type": "code",
   "execution_count": 43,
   "metadata": {},
   "outputs": [],
   "source": [
    "transitions = model.predict([pp])"
   ]
  },
  {
   "cell_type": "code",
   "execution_count": 44,
   "metadata": {},
   "outputs": [
    {
     "data": {
      "text/plain": [
       "[[('class', 'NLP'),\n",
       "  ('class', 'the'),\n",
       "  ('class', 'in'),\n",
       "  ('class', 'lectures'),\n",
       "  ('class', 'attended'),\n",
       "  ('class', 'I'),\n",
       "  ('class', 'ROOT')],\n",
       " [('you', 'love'), ('you', 'I'), ('you', 'ROOT')]]"
      ]
     },
     "execution_count": 44,
     "metadata": {},
     "output_type": "execute_result"
    }
   ],
   "source": [
    "minibatch_parse(sentences, model, 1)"
   ]
  },
  {
   "cell_type": "code",
   "execution_count": 39,
   "metadata": {},
   "outputs": [
    {
     "data": {
      "text/plain": [
       "['I', 'attended', 'lectures', 'in', 'the', 'NLP', 'class']"
      ]
     },
     "execution_count": 39,
     "metadata": {},
     "output_type": "execute_result"
    }
   ],
   "source": [
    "pp.buffer"
   ]
  },
  {
   "cell_type": "markdown",
   "metadata": {},
   "source": [
    "## Parser model"
   ]
  },
  {
   "cell_type": "code",
   "execution_count": 50,
   "metadata": {},
   "outputs": [
    {
     "name": "stdout",
     "output_type": "stream",
     "text": [
      "Loading data...\n",
      "took 1.21 seconds\n",
      "Building parser...\n",
      "took 0.02 seconds\n",
      "Loading pretrained embeddings...\n",
      "took 1.20 seconds\n",
      "Vectorizing data...\n",
      "took 0.03 seconds\n",
      "Preprocessing training data...\n",
      "took 0.63 seconds\n"
     ]
    }
   ],
   "source": [
    "debug = True\n",
    "parser, embeddings, train_data, dev_data, test_data = load_and_preprocess_data(debug)\n",
    "model = ParserModel(embeddings)"
   ]
  },
  {
   "cell_type": "code",
   "execution_count": 118,
   "metadata": {},
   "outputs": [
    {
     "data": {
      "text/plain": [
       "(5157, 50)"
      ]
     },
     "execution_count": 118,
     "metadata": {},
     "output_type": "execute_result"
    }
   ],
   "source": [
    "embeddings.shape"
   ]
  },
  {
   "cell_type": "code",
   "execution_count": 92,
   "metadata": {},
   "outputs": [
    {
     "data": {
      "text/plain": [
       "{'word': [5156, 85, 5154, 5077, 88, 339, 117, 5154, 85, 195, 112, 5154, 87],\n",
       " 'pos': [84, 41, 49, 44, 40, 39, 58, 50, 41, 39, 65, 49, 46],\n",
       " 'head': [-1, 3, 3, 7, 5, 3, 7, 0, 9, 7, 11, 7, 7],\n",
       " 'label': [-1, 19, 10, 17, 31, 4, 36, 0, 19, 8, 23, 7, 20]}"
      ]
     },
     "execution_count": 92,
     "metadata": {},
     "output_type": "execute_result"
    }
   ],
   "source": [
    "dev_data[-1]"
   ]
  },
  {
   "cell_type": "code",
   "execution_count": 111,
   "metadata": {},
   "outputs": [
    {
     "data": {
      "text/plain": [
       "{'word': [5156, 176, 86, 101, 103, 118, 841, 391, 87],\n",
       " 'pos': [84, 41, 45, 54, 48, 47, 43, 42, 46],\n",
       " 'head': [-1, 7, 7, 7, 7, 7, 7, 0, 7],\n",
       " 'label': [-1, 6, 20, 17, 5, 32, 35, 0, 20]}"
      ]
     },
     "execution_count": 111,
     "metadata": {},
     "output_type": "execute_result"
    }
   ],
   "source": [
    "\"\"\"\n",
    "1\tNo\t_\tADV\tDT\t_\t7\tdiscourse\t_\t_\n",
    "2\t,\t_\tPUNCT\t,\t_\t7\tpunct\t_\t_\n",
    "3\tit\t_\tPRON\tPRP\t_\t7\tnsubj\t_\t_\n",
    "4\twas\t_\tVERB\tVBD\t_\t7\tcop\t_\t_\n",
    "5\tn't\t_\tPART\tRB\t_\t7\tneg\t_\t_\n",
    "6\tBlack\t_\tPROPN\tJJ\t_\t7\tcompound\t_\t_\n",
    "7\tMonday\t_\tPROPN\tNNP\t_\t0\troot\t_\t_\n",
    "8\t.\t_\tPUNCT\t.\t_\t7\tpunct\t_\t_\n",
    "\"\"\"\n",
    "test_data[0]"
   ]
  },
  {
   "cell_type": "code",
   "execution_count": 114,
   "metadata": {},
   "outputs": [
    {
     "data": {
      "text/plain": [
       "{'word': [5156, 85, 5154, 115, 566, 5154, 87],\n",
       " 'pos': [84, 41, 43, 55, 47, 53, 46],\n",
       " 'head': [-1, 2, 5, 5, 5, 0, 5],\n",
       " 'label': [-1, 19, 17, 36, 3, 0, 20]}"
      ]
     },
     "execution_count": 114,
     "metadata": {},
     "output_type": "execute_result"
    }
   ],
   "source": [
    "\"\"\"\n",
    "1\tThe\t_\tDET\tDT\t_\t2\tdet\t_\t_\n",
    "2\tfinger-pointing\t_\tNOUN\tJJ\t_\t5\tnsubj\t_\t_\n",
    "3\thas\t_\tAUX\tVBZ\t_\t5\taux\t_\t_\n",
    "4\talready\t_\tADV\tRB\t_\t5\tadvmod\t_\t_\n",
    "5\tbegun\t_\tVERB\tVBN\t_\t0\troot\t_\t_\n",
    "6\t.\t_\tPUNCT\t.\t_\t5\tpunct\t_\t_\n",
    "\"\"\"\n",
    "test_data[7]"
   ]
  },
  {
   "cell_type": "code",
   "execution_count": 115,
   "metadata": {},
   "outputs": [
    {
     "data": {
      "text/plain": [
       "{'word': [5156, 96, 85, 1166, 174, 103, 5154, 87],\n",
       " 'pos': [84, 61, 41, 39, 39, 48, 43, 46],\n",
       " 'head': [-1, 6, 4, 4, 6, 6, 0, 6],\n",
       " 'label': [-1, 20, 19, 35, 17, 5, 0, 20]}"
      ]
     },
     "execution_count": 115,
     "metadata": {},
     "output_type": "execute_result"
    }
   ],
   "source": [
    "\"\"\"\n",
    "1\t``\t_\tPUNCT\t``\t_\t6\tpunct\t_\t_\n",
    "2\tThe\t_\tDET\tDT\t_\t4\tdet\t_\t_\n",
    "3\tequity\t_\tNOUN\tNN\t_\t4\tcompound\t_\t_\n",
    "4\tmarket\t_\tNOUN\tNN\t_\t6\tnsubj\t_\t_\n",
    "5\twas\t_\tVERB\tVBD\t_\t6\tcop\t_\t_\n",
    "6\tilliquid\t_\tADJ\tJJ\t_\t0\troot\t_\t_\n",
    "7\t.\t_\tPUNCT\t.\t_\t6\tpunct\t_\t_\n",
    "\"\"\"\n",
    "test_data[8]"
   ]
  },
  {
   "cell_type": "markdown",
   "metadata": {},
   "source": [
    "## Parser Transitions"
   ]
  }
 ],
 "metadata": {
  "kernelspec": {
   "display_name": "cs224n",
   "language": "python",
   "name": "python3"
  },
  "language_info": {
   "codemirror_mode": {
    "name": "ipython",
    "version": 3
   },
   "file_extension": ".py",
   "mimetype": "text/x-python",
   "name": "python",
   "nbconvert_exporter": "python",
   "pygments_lexer": "ipython3",
   "version": "3.1.0"
  }
 },
 "nbformat": 4,
 "nbformat_minor": 2
}
