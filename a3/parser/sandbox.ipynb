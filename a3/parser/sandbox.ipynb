{
 "cells": [
  {
   "cell_type": "markdown",
   "metadata": {},
   "source": [
    "## Parser Transitions"
   ]
  },
  {
   "cell_type": "code",
   "execution_count": 31,
   "metadata": {},
   "outputs": [],
   "source": [
    "from parser_transitions import *"
   ]
  },
  {
   "cell_type": "code",
   "execution_count": 32,
   "metadata": {},
   "outputs": [
    {
     "data": {
      "text/plain": [
       "[['ROOT', 'attended', 'lectures'],\n",
       " ['in', 'the', 'NLP', 'class'],\n",
       " [('attended', 'I')]]"
      ]
     },
     "execution_count": 32,
     "metadata": {},
     "output_type": "execute_result"
    }
   ],
   "source": [
    "#init\n",
    "sentence = [\"I\", \"attended\", \"lectures\", \"in\", \"the\", \"NLP\", \"class\"]\n",
    "pp = PartialParse(sentence)\n",
    "\n",
    "#parse\n",
    "pp.parse_step(\"S\")\n",
    "pp.parse_step(\"S\")\n",
    "pp.parse_step(\"LA\")\n",
    "pp.parse_step(\"S\")\n",
    "\n",
    "#print\n",
    "[pp.stack, pp.buffer, pp.dependencies]"
   ]
  },
  {
   "cell_type": "code",
   "execution_count": 33,
   "metadata": {},
   "outputs": [
    {
     "data": {
      "text/plain": [
       "[['ROOT'],\n",
       " [],\n",
       " [('attended', 'I'),\n",
       "  ('attended', 'lectures'),\n",
       "  ('class', 'NLP'),\n",
       "  ('class', 'the'),\n",
       "  ('class', 'in'),\n",
       "  ('attended', 'class'),\n",
       "  ('ROOT', 'attended')]]"
      ]
     },
     "execution_count": 33,
     "metadata": {},
     "output_type": "execute_result"
    }
   ],
   "source": [
    "#init\n",
    "sentence = [\"I\", \"attended\", \"lectures\", \"in\", \"the\", \"NLP\", \"class\"]\n",
    "pp = PartialParse(sentence)\n",
    "\n",
    "#parse\n",
    "transitions = [\"S\", \"S\", \"LA\", \"S\", \"RA\", \"S\", \"S\", \"S\", \"S\", \"LA\", \"LA\", \"LA\", \"RA\", \"RA\"]\n",
    "pp.parse(transitions)\n",
    "\n",
    "#print\n",
    "[pp.stack, pp.buffer, pp.dependencies]"
   ]
  },
  {
   "cell_type": "markdown",
   "metadata": {},
   "source": [
    "Minibatch parse"
   ]
  },
  {
   "cell_type": "code",
   "execution_count": 42,
   "metadata": {},
   "outputs": [],
   "source": [
    "model = DummyModel()\n",
    "sentence = [\"I\", \"attended\", \"lectures\", \"in\", \"the\", \"NLP\", \"class\"]\n",
    "sentences = [sentence, \"I love you\".split()]    \n",
    "pp = PartialParse(sentence)"
   ]
  },
  {
   "cell_type": "code",
   "execution_count": 43,
   "metadata": {},
   "outputs": [],
   "source": [
    "transitions = model.predict([pp])"
   ]
  },
  {
   "cell_type": "code",
   "execution_count": 44,
   "metadata": {},
   "outputs": [
    {
     "data": {
      "text/plain": [
       "[[('class', 'NLP'),\n",
       "  ('class', 'the'),\n",
       "  ('class', 'in'),\n",
       "  ('class', 'lectures'),\n",
       "  ('class', 'attended'),\n",
       "  ('class', 'I'),\n",
       "  ('class', 'ROOT')],\n",
       " [('you', 'love'), ('you', 'I'), ('you', 'ROOT')]]"
      ]
     },
     "execution_count": 44,
     "metadata": {},
     "output_type": "execute_result"
    }
   ],
   "source": [
    "minibatch_parse(sentences, model, 1)"
   ]
  },
  {
   "cell_type": "code",
   "execution_count": 39,
   "metadata": {},
   "outputs": [
    {
     "data": {
      "text/plain": [
       "['I', 'attended', 'lectures', 'in', 'the', 'NLP', 'class']"
      ]
     },
     "execution_count": 39,
     "metadata": {},
     "output_type": "execute_result"
    }
   ],
   "source": [
    "pp.buffer"
   ]
  },
  {
   "cell_type": "markdown",
   "metadata": {},
   "source": []
  }
 ],
 "metadata": {
  "kernelspec": {
   "display_name": "cs224n",
   "language": "python",
   "name": "python3"
  },
  "language_info": {
   "codemirror_mode": {
    "name": "ipython",
    "version": 3
   },
   "file_extension": ".py",
   "mimetype": "text/x-python",
   "name": "python",
   "nbconvert_exporter": "python",
   "pygments_lexer": "ipython3",
   "version": "3.11.7"
  }
 },
 "nbformat": 4,
 "nbformat_minor": 2
}
